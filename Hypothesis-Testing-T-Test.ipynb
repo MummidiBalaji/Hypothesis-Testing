{
 "cells": [
  {
   "cell_type": "markdown",
   "id": "f9bbc8c8",
   "metadata": {},
   "source": [
    "### Importing Necessary Libraries"
   ]
  },
  {
   "cell_type": "code",
   "execution_count": 1,
   "id": "2cb4fea3",
   "metadata": {},
   "outputs": [],
   "source": [
    "import numpy as np\n",
    "import math\n",
    "import scipy.stats as st\n",
    "\n",
    "import matplotlib.pyplot as plt\n",
    "%matplotlib inline"
   ]
  },
  {
   "cell_type": "markdown",
   "id": "5d1f5606",
   "metadata": {},
   "source": [
    "### Function to calculate Sample Standard Deviation"
   ]
  },
  {
   "cell_type": "code",
   "execution_count": 2,
   "id": "72f3f2f8",
   "metadata": {},
   "outputs": [],
   "source": [
    "def sample_std(sample):\n",
    "    numerator = []\n",
    "    for i in sample:\n",
    "        numerator.append((i-sum(sample)/len(sample))**2)\n",
    "    sample_variance = sum(numerator)/(len(sample)-1)\n",
    "    sample_std = math.sqrt(sample_variance)\n",
    "    print('sample_std :     {0:.1f}'.format(sample_std))"
   ]
  },
  {
   "cell_type": "markdown",
   "id": "5d440360",
   "metadata": {},
   "source": [
    "### Function to calculate t-Score"
   ]
  },
  {
   "cell_type": "code",
   "execution_count": 3,
   "id": "d09ad174",
   "metadata": {},
   "outputs": [],
   "source": [
    "def t_score(sample_mean,population_mean,sample_std,sample_size):\n",
    "    numerator = (sample_mean - population_mean)\n",
    "    denominator = (sample_std/math.sqrt(sample_size))\n",
    "    tscore = numerator/denominator\n",
    "    return tscore\n",
    "    "
   ]
  },
  {
   "attachments": {
    "variation06.gif": {
     "image/gif": "[encoded data removed]"
    }
   },
   "cell_type": "markdown",
   "id": "67add1e5",
   "metadata": {},
   "source": [
    "![variation06.gif](attachment:variation06.gif)"
   ]
  },
  {
   "cell_type": "markdown",
   "id": "d0b982d1",
   "metadata": {},
   "source": [
    "## Q-1: Pista House selling Hyderabadi Chicken Dum biryani claims that each parcel packet has 500 grams of biryani (also mentioned on the label of packet). You are sceptic of their claims and believe that on average each packet does not contain 500 grams of biryani. How do you prove your claim?"
   ]
  },
  {
   "cell_type": "markdown",
   "id": "6fe4f5d6",
   "metadata": {},
   "source": [
    "### Step-1: Collecting a sample"
   ]
  },
  {
   "cell_type": "code",
   "execution_count": 4,
   "id": "2671edb7",
   "metadata": {},
   "outputs": [],
   "source": [
    "sample = [490, 220, 470, 500, 495, 496, 496, 498, 508, 480]\n",
    "sample_mean = sum(sample)/len(sample)"
   ]
  },
  {
   "cell_type": "markdown",
   "id": "75c1960c",
   "metadata": {},
   "source": [
    "### Step-2: Defining Sample & Population parameters"
   ]
  },
  {
   "cell_type": "code",
   "execution_count": 5,
   "id": "c530af25",
   "metadata": {},
   "outputs": [
    {
     "name": "stdout",
     "output_type": "stream",
     "text": [
      "sample_size:     10\n",
      "sample_std :     86.8\n",
      "sample_mean:     465.3\n",
      "population_mean: 500\n"
     ]
    }
   ],
   "source": [
    "sample_size = len(sample)\n",
    "sample_mean = sample_mean\n",
    "population_mean = 500\n",
    "\n",
    "print('sample_size:    ',sample_size)\n",
    "sample_std(sample)\n",
    "print('sample_mean:    ',sample_mean)\n",
    "print('population_mean:',population_mean)\n"
   ]
  },
  {
   "cell_type": "markdown",
   "id": "d7930448",
   "metadata": {},
   "source": [
    "### Step-3: Calculating t-Score"
   ]
  },
  {
   "cell_type": "code",
   "execution_count": 6,
   "id": "caad2b5d",
   "metadata": {},
   "outputs": [
    {
     "name": "stdout",
     "output_type": "stream",
     "text": [
      "-1.2641824286617827\n"
     ]
    }
   ],
   "source": [
    "# Since we don't have population standard deviation, we calculated sample standard deviation. That's why we calculated T-Score\n",
    "t = t_score(465.3,500,86.8,10)\n",
    "print(t)"
   ]
  },
  {
   "cell_type": "markdown",
   "id": "5ecc35b3",
   "metadata": {},
   "source": [
    "### Step-4: Two tailed test"
   ]
  },
  {
   "cell_type": "code",
   "execution_count": 7,
   "id": "e887f688",
   "metadata": {},
   "outputs": [
    {
     "name": "stdout",
     "output_type": "stream",
     "text": [
      "2.2621571627409915\n"
     ]
    }
   ],
   "source": [
    "confidence_level = 0.95\n",
    "alpha = 1 - confidence_level\n",
    "dof = len(sample)-1\n",
    "t_critical = st.t.ppf(1-alpha/2,dof)\n",
    "print(t_critical)"
   ]
  },
  {
   "cell_type": "markdown",
   "id": "991e4a7e",
   "metadata": {},
   "source": [
    "### Step-5: Calculating p-value"
   ]
  },
  {
   "cell_type": "code",
   "execution_count": 8,
   "id": "f767c3bc",
   "metadata": {},
   "outputs": [
    {
     "data": {
      "text/plain": [
       "Ttest_1sampResult(statistic=-1.263475128444671, pvalue=0.23816470585327693)"
      ]
     },
     "execution_count": 8,
     "metadata": {},
     "output_type": "execute_result"
    }
   ],
   "source": [
    "st.ttest_1samp(sample,population_mean)"
   ]
  },
  {
   "cell_type": "markdown",
   "id": "2a956342",
   "metadata": {},
   "source": [
    "#### Otherway to find p-Value"
   ]
  },
  {
   "cell_type": "code",
   "execution_count": 9,
   "id": "5ba7281f",
   "metadata": {},
   "outputs": [
    {
     "name": "stdout",
     "output_type": "stream",
     "text": [
      "0.23792218530661824\n"
     ]
    }
   ],
   "source": [
    "p = 2*(1-st.t.cdf(np.abs(t),9))\n",
    "print(p)"
   ]
  },
  {
   "cell_type": "markdown",
   "id": "ce86d439",
   "metadata": {},
   "source": [
    "### Conclusion using t-test"
   ]
  },
  {
   "cell_type": "code",
   "execution_count": 10,
   "id": "e44c03d6",
   "metadata": {},
   "outputs": [
    {
     "name": "stdout",
     "output_type": "stream",
     "text": [
      "Fail to reject Null Hypothesis\n"
     ]
    }
   ],
   "source": [
    "# Conclusion using t test\n",
    "if(np.abs(t) > t_critical):\n",
    "    print(\"Reject Null Hypothesis\")\n",
    "else:\n",
    "    print(\"Fail to reject Null Hypothesis\")"
   ]
  },
  {
   "cell_type": "markdown",
   "id": "ceb5c137",
   "metadata": {},
   "source": [
    "### Step-6 Conclusion using p-value"
   ]
  },
  {
   "cell_type": "code",
   "execution_count": 11,
   "id": "d0de452b",
   "metadata": {},
   "outputs": [
    {
     "name": "stdout",
     "output_type": "stream",
     "text": [
      "Fail to reject Null Hypothesis\n"
     ]
    }
   ],
   "source": [
    "if(p < alpha):\n",
    "    print(\"Reject Null Hypothesis\")\n",
    "else:\n",
    "    print(\"Fail to reject Null Hypothesis\")"
   ]
  },
  {
   "cell_type": "code",
   "execution_count": 12,
   "id": "43a3b985",
   "metadata": {},
   "outputs": [
    {
     "data": {
      "image/png": "[encoded data removed]",
      "text/plain": [
       "<Figure size 432x288 with 1 Axes>"
      ]
     },
     "metadata": {
      "needs_background": "light"
     },
     "output_type": "display_data"
    }
   ],
   "source": [
    "# Ploting the sampling distribution with rejection regions\n",
    "\n",
    "# Defining the x minimum and x maximum\n",
    "x_min = 400\n",
    "x_max = 600\n",
    "\n",
    "\n",
    "# Defining the sampling distribution mean and sampling distribution std\n",
    "mean = population_mean\n",
    "std = 86.8 / sample_size**0.5\n",
    "\n",
    "# Ploting the graph and setting the x limits\n",
    "x = np.linspace(x_min, x_max, 100)\n",
    "y = st.norm.pdf(x, mean, std)\n",
    "plt.xlim(x_min, x_max)\n",
    "plt.plot(x, y, color = 'black')\n",
    "\n",
    "# Computing the left and right critical values (Two tailed Test)\n",
    "t_critical_left = population_mean + (-t_critical * std)\n",
    "t_critical_right = population_mean + (t_critical * std)\n",
    "\n",
    "\n",
    "# Shading the left rejection region\n",
    "x1 = np.linspace(x_min, t_critical_left, 100)\n",
    "y1 = st.norm.pdf(x1, mean, std)\n",
    "plt.fill_between(x1, y1, color='red')\n",
    "\n",
    "# Shading the right rejection region\n",
    "x2 = np.linspace(t_critical_right, x_max, 100)\n",
    "y2 = st.norm.pdf(x2, mean, std)\n",
    "plt.fill_between(x2, y2, color='red')\n",
    "\n",
    "# Ploting the sample mean and concluding the results \n",
    "plt.scatter(sample_mean, 0, color = 'green')\n",
    "plt.annotate(\"x_bar\", (sample_mean, 0.0007))\n",
    "plt.show()"
   ]
  },
  {
   "cell_type": "markdown",
   "id": "0c8853ab",
   "metadata": {},
   "source": [
    "#### In this case the Sample mean doesn't falls in the rejection region. So, we Fail to Reject the Null Hypothesis"
   ]
  },
  {
   "cell_type": "markdown",
   "id": "2e8d8a85",
   "metadata": {},
   "source": [
    "## Q-2: You have developed a new Natural Language Processing Algorithms and done a user study. You claim that the average rating given by the users is greater than 4 on a scale of \"1 to 5\". How do you prove this to your client?"
   ]
  },
  {
   "cell_type": "markdown",
   "id": "ebe93630",
   "metadata": {},
   "source": [
    "### Step-1: Collecting a sample"
   ]
  },
  {
   "cell_type": "code",
   "execution_count": 13,
   "id": "1ac5dd11",
   "metadata": {},
   "outputs": [],
   "source": [
    "sample = [4,3,5,4,5,3,5,5,4,2,4,5,5,4,4,5,4,5,4,5]"
   ]
  },
  {
   "cell_type": "markdown",
   "id": "5c5ee115",
   "metadata": {},
   "source": [
    "### Step-2: Defining Sample & Population parameters"
   ]
  },
  {
   "cell_type": "code",
   "execution_count": 14,
   "id": "64f4b877",
   "metadata": {},
   "outputs": [
    {
     "name": "stdout",
     "output_type": "stream",
     "text": [
      "sample_std :     0.9\n",
      "sample_size:     20\n",
      "sample_mean:     4.25\n",
      "population_mean: 4\n"
     ]
    }
   ],
   "source": [
    "sample_size = len(sample)\n",
    "sample_mean = sum(sample)/len(sample)\n",
    "population_mean = 4\n",
    "sample_std(sample)\n",
    "\n",
    "print('sample_size:    ',sample_size)\n",
    "print('sample_mean:    ',sample_mean)\n",
    "print('population_mean:',population_mean)\n"
   ]
  },
  {
   "cell_type": "markdown",
   "id": "ee6c5cf1",
   "metadata": {},
   "source": [
    "### Step-3: Calculating t-score"
   ]
  },
  {
   "cell_type": "code",
   "execution_count": 15,
   "id": "fcc1b6a8",
   "metadata": {},
   "outputs": [
    {
     "name": "stdout",
     "output_type": "stream",
     "text": [
      "1.2422599874998832\n"
     ]
    }
   ],
   "source": [
    "t = t_score(4.25,4,0.9,20)\n",
    "print(t)"
   ]
  },
  {
   "cell_type": "markdown",
   "id": "c4c31e7e",
   "metadata": {},
   "source": [
    "### Step-4: One tailed test"
   ]
  },
  {
   "cell_type": "code",
   "execution_count": 16,
   "id": "2b40b85a",
   "metadata": {},
   "outputs": [
    {
     "name": "stdout",
     "output_type": "stream",
     "text": [
      "1.729132811521367\n"
     ]
    }
   ],
   "source": [
    "confidence_level = 0.95\n",
    "alpha = 1 - confidence_level\n",
    "dof = len(sample)-1\n",
    "t_critical = st.t.ppf(1-alpha,dof)\n",
    "print(t_critical)"
   ]
  },
  {
   "cell_type": "markdown",
   "id": "a747d240",
   "metadata": {},
   "source": [
    "### Step-5 Calculating P-value"
   ]
  },
  {
   "cell_type": "code",
   "execution_count": 17,
   "id": "ea2db832",
   "metadata": {},
   "outputs": [
    {
     "name": "stdout",
     "output_type": "stream",
     "text": [
      "0.11462786961142124\n"
     ]
    }
   ],
   "source": [
    "p = (1-st.t.cdf(np.abs(t),19))\n",
    "print(p)"
   ]
  },
  {
   "cell_type": "code",
   "execution_count": 18,
   "id": "ac84e27c",
   "metadata": {},
   "outputs": [
    {
     "name": "stdout",
     "output_type": "stream",
     "text": [
      "0.11462786961142117\n"
     ]
    }
   ],
   "source": [
    "p = (st.t.cdf(-abs(t),19))\n",
    "print(p)"
   ]
  },
  {
   "cell_type": "markdown",
   "id": "e1bcf7df",
   "metadata": {},
   "source": [
    "### Conclusion using t-test"
   ]
  },
  {
   "cell_type": "code",
   "execution_count": 19,
   "id": "3fa7dee0",
   "metadata": {},
   "outputs": [
    {
     "name": "stdout",
     "output_type": "stream",
     "text": [
      "Fail to reject Null Hypothesis\n"
     ]
    }
   ],
   "source": [
    "# Conclusion using t test\n",
    "if(np.abs(t) > t_critical):\n",
    "    print(\"Reject Null Hypothesis\")\n",
    "else:\n",
    "    print(\"Fail to reject Null Hypothesis\")"
   ]
  },
  {
   "cell_type": "markdown",
   "id": "47689335",
   "metadata": {},
   "source": [
    "### Step-6: Conclusion using p-value"
   ]
  },
  {
   "cell_type": "code",
   "execution_count": 20,
   "id": "53e358a4",
   "metadata": {},
   "outputs": [
    {
     "name": "stdout",
     "output_type": "stream",
     "text": [
      "Fail to reject Null Hypothesis\n"
     ]
    }
   ],
   "source": [
    "if(p < alpha):\n",
    "    print(\"Reject Null Hypothesis\")\n",
    "else:\n",
    "    print(\"Fail to reject Null Hypothesis\")"
   ]
  },
  {
   "cell_type": "code",
   "execution_count": 21,
   "id": "ba150d78",
   "metadata": {},
   "outputs": [
    {
     "data": {
      "image/png": "[encoded data removed]",
      "text/plain": [
       "<Figure size 432x288 with 1 Axes>"
      ]
     },
     "metadata": {
      "needs_background": "light"
     },
     "output_type": "display_data"
    }
   ],
   "source": [
    "# Ploting the sampling distribution with rejection regions\n",
    "\n",
    "# Defining the x minimum and x maximum\n",
    "x_min = 3.5\n",
    "x_max = 4.5\n",
    "\n",
    "\n",
    "# Defining the sampling distribution mean and sampling distribution std\n",
    "mean = population_mean\n",
    "std = 0.9 / sample_size**0.5\n",
    "\n",
    "# Ploting the graph and setting the x limits\n",
    "x = np.linspace(x_min, x_max, 100)\n",
    "y = st.norm.pdf(x, mean, std)\n",
    "plt.xlim(x_min, x_max)\n",
    "plt.plot(x, y, color = 'black')\n",
    "\n",
    "# Computing the lright critical values (Two tailed Test)\n",
    "t_critical_right = population_mean + (t_critical * std)\n",
    "\n",
    "\n",
    "# Shading the right rejection region\n",
    "x2 = np.linspace(t_critical_right, x_max, 100)\n",
    "y2 = st.norm.pdf(x2, mean, std)\n",
    "plt.fill_between(x2, y2, color='red')\n",
    "\n",
    "# Ploting the sample mean and concluding the results \n",
    "plt.scatter(sample_mean, 0, color = 'green')\n",
    "plt.annotate(\"x_bar\", (sample_mean, 0.0007))\n",
    "plt.show()"
   ]
  },
  {
   "cell_type": "markdown",
   "id": "1600c422",
   "metadata": {},
   "source": [
    "#### In this case the Sample mean doesn't falls in the rejection region. So, we Fail to Reject the Null Hypothesis"
   ]
  },
  {
   "cell_type": "markdown",
   "id": "711726be",
   "metadata": {},
   "source": [
    "## Q-3: TATA has developed a better fuel management system for the SUV segment. They claim that with this system, on average the SUV's mileage is at least 15 km/litre?"
   ]
  },
  {
   "cell_type": "markdown",
   "id": "5b4bf5cd",
   "metadata": {},
   "source": [
    "### Step-1: Collecting a sample"
   ]
  },
  {
   "cell_type": "code",
   "execution_count": 22,
   "id": "99879384",
   "metadata": {},
   "outputs": [],
   "source": [
    "sample = [14.08,14.13,15.65,13.78,16.26,14.97,15.36,15.81,14.53,16.79,15.78,16.98,13.23,15.43,\n",
    "          15.46,13.88,14.31,14.41,15.76,15.38]"
   ]
  },
  {
   "cell_type": "markdown",
   "id": "21caa2c8",
   "metadata": {},
   "source": [
    "### Step-2: Defining Sample & Population parameters"
   ]
  },
  {
   "cell_type": "code",
   "execution_count": 23,
   "id": "bcfa111e",
   "metadata": {},
   "outputs": [
    {
     "name": "stdout",
     "output_type": "stream",
     "text": [
      "sample_std :     1.0\n",
      "sample_size:     20\n",
      "sample_mean:     15.098999999999998\n",
      "population_mean: 15\n"
     ]
    }
   ],
   "source": [
    "sample_size = len(sample)\n",
    "sample_mean = sum(sample)/len(sample)\n",
    "population_mean = 15\n",
    "sample_std(sample)\n",
    "\n",
    "print('sample_size:    ',sample_size)\n",
    "print('sample_mean:    ',sample_mean)\n",
    "print('population_mean:',population_mean)"
   ]
  },
  {
   "cell_type": "markdown",
   "id": "6cd9d13a",
   "metadata": {},
   "source": [
    "### Step-3: Calculating t-score"
   ]
  },
  {
   "cell_type": "code",
   "execution_count": 24,
   "id": "933e4055",
   "metadata": {},
   "outputs": [
    {
     "name": "stdout",
     "output_type": "stream",
     "text": [
      "0.40249223594996153\n"
     ]
    }
   ],
   "source": [
    "t = t_score(15.09,15,1,20)\n",
    "print(t)"
   ]
  },
  {
   "cell_type": "markdown",
   "id": "804a9bfe",
   "metadata": {},
   "source": [
    "### Step-4 One tail test"
   ]
  },
  {
   "cell_type": "code",
   "execution_count": 25,
   "id": "3ec1d04a",
   "metadata": {},
   "outputs": [
    {
     "name": "stdout",
     "output_type": "stream",
     "text": [
      "1.729132811521367\n"
     ]
    }
   ],
   "source": [
    "confidence_level = 0.95\n",
    "alpha = 1 - confidence_level\n",
    "dof = len(sample)-1\n",
    "t_critical = st.t.ppf(1-alpha,dof)\n",
    "print(t_critical)"
   ]
  },
  {
   "cell_type": "markdown",
   "id": "468bd525",
   "metadata": {},
   "source": [
    "### Step-5 Calculating P-value"
   ]
  },
  {
   "cell_type": "code",
   "execution_count": 26,
   "id": "7e72b3c4",
   "metadata": {},
   "outputs": [
    {
     "name": "stdout",
     "output_type": "stream",
     "text": [
      "0.3459070786989713\n"
     ]
    }
   ],
   "source": [
    "p = (1-st.t.cdf(np.abs(t),19))\n",
    "print(p)"
   ]
  },
  {
   "cell_type": "markdown",
   "id": "213f743c",
   "metadata": {},
   "source": [
    "### Conclusion using t-test"
   ]
  },
  {
   "cell_type": "code",
   "execution_count": 27,
   "id": "fcbbdda7",
   "metadata": {},
   "outputs": [
    {
     "name": "stdout",
     "output_type": "stream",
     "text": [
      "Fail to reject Null Hypothesis\n"
     ]
    }
   ],
   "source": [
    "# Conclusion using t test\n",
    "if(np.abs(t) > t_critical):\n",
    "    print(\"Reject Null Hypothesis\")\n",
    "else:\n",
    "    print(\"Fail to reject Null Hypothesis\")"
   ]
  },
  {
   "cell_type": "markdown",
   "id": "8c14da6e",
   "metadata": {},
   "source": [
    "### Step-6: Conclusion using p-value"
   ]
  },
  {
   "cell_type": "code",
   "execution_count": 28,
   "id": "34c16229",
   "metadata": {},
   "outputs": [
    {
     "name": "stdout",
     "output_type": "stream",
     "text": [
      "Fail to reject Null Hypothesis\n"
     ]
    }
   ],
   "source": [
    "if(p < alpha):\n",
    "    print(\"Reject Null Hypothesis\")\n",
    "else:\n",
    "    print(\"Fail to reject Null Hypothesis\")"
   ]
  },
  {
   "cell_type": "code",
   "execution_count": 29,
   "id": "1f7109e2",
   "metadata": {},
   "outputs": [
    {
     "data": {
      "image/png": "[encoded data removed]",
      "text/plain": [
       "<Figure size 432x288 with 1 Axes>"
      ]
     },
     "metadata": {
      "needs_background": "light"
     },
     "output_type": "display_data"
    }
   ],
   "source": [
    "# Ploting the sampling distribution with rejection regions\n",
    "\n",
    "# Defining the x minimum and x maximum\n",
    "x_min = 13\n",
    "x_max = 17\n",
    "\n",
    "\n",
    "# Defining the sampling distribution mean and sampling distribution std\n",
    "mean = population_mean\n",
    "std = 1 / sample_size**0.5\n",
    "\n",
    "# Ploting the graph and setting the x limits\n",
    "x = np.linspace(x_min, x_max, 100)\n",
    "y = st.norm.pdf(x, mean, std)\n",
    "plt.xlim(x_min, x_max)\n",
    "plt.plot(x, y, color = 'black')\n",
    "\n",
    "# Computing the left and right critical values (Two tailed Test)\n",
    "t_critical_left = population_mean + (-t_critical * std)\n",
    "t_critical_right = population_mean + (t_critical * std)\n",
    "\n",
    "\n",
    "# Shading the left rejection region\n",
    "x1 = np.linspace(x_min, t_critical_left, 100)\n",
    "y1 = st.norm.pdf(x1, mean, std)\n",
    "plt.fill_between(x1, y1, color='red')\n",
    "\n",
    "\n",
    "# Ploting the sample mean and concluding the results \n",
    "plt.scatter(sample_mean, 0, color = 'green')\n",
    "plt.annotate(\"x_bar\", (sample_mean, 0.0007))\n",
    "plt.show()"
   ]
  },
  {
   "cell_type": "markdown",
   "id": "c2d9ef3e",
   "metadata": {},
   "source": [
    "#### In this case the Sample mean doesn't falls in the rejection region. So, we Fail to Reject the Null Hypothesis"
   ]
  },
  {
   "cell_type": "markdown",
   "id": "3df02fea",
   "metadata": {},
   "source": [
    "## Q-4: You have developed a new Machine Learning Application and claim that on average it takes less than 100 ms to predict for any future datapoint. How do you convince your client about this claim?"
   ]
  },
  {
   "cell_type": "markdown",
   "id": "533945a7",
   "metadata": {},
   "source": [
    "### Step-1: Collecting a sample"
   ]
  },
  {
   "cell_type": "code",
   "execution_count": 30,
   "id": "955c7caa",
   "metadata": {},
   "outputs": [],
   "source": [
    "sample = [90,85,99,88,76,69,95,106,104,101,88,94,100,101,118,110,67,79,84,95,93,87,106,46,108]"
   ]
  },
  {
   "cell_type": "markdown",
   "id": "cf54d314",
   "metadata": {},
   "source": [
    "### Step-2: Defining Sample & Population parameters"
   ]
  },
  {
   "cell_type": "code",
   "execution_count": 31,
   "id": "2ca59148",
   "metadata": {},
   "outputs": [
    {
     "name": "stdout",
     "output_type": "stream",
     "text": [
      "sample_std :     15.8\n",
      "sample_size:     25\n",
      "sample_mean:     91.56\n",
      "population_mean: 100\n"
     ]
    }
   ],
   "source": [
    "sample_size = len(sample)\n",
    "sample_mean = sum(sample)/len(sample)\n",
    "population_mean = 100\n",
    "sample_std(sample)\n",
    "\n",
    "print('sample_size:    ',sample_size)\n",
    "print('sample_mean:    ',sample_mean)\n",
    "print('population_mean:',population_mean)"
   ]
  },
  {
   "cell_type": "markdown",
   "id": "d3d85abb",
   "metadata": {},
   "source": [
    "### Step-3: Calculating t-score"
   ]
  },
  {
   "cell_type": "code",
   "execution_count": 32,
   "id": "af312bda",
   "metadata": {},
   "outputs": [
    {
     "name": "stdout",
     "output_type": "stream",
     "text": [
      "-2.6708860759493662\n"
     ]
    }
   ],
   "source": [
    "t = t_score(91.56,100,15.8,25)\n",
    "print(t)"
   ]
  },
  {
   "cell_type": "markdown",
   "id": "148b015c",
   "metadata": {},
   "source": [
    "### Step-4 One-tailed test"
   ]
  },
  {
   "cell_type": "code",
   "execution_count": 33,
   "id": "449e63ae",
   "metadata": {},
   "outputs": [
    {
     "name": "stdout",
     "output_type": "stream",
     "text": [
      "1.7108820799094275\n"
     ]
    }
   ],
   "source": [
    "confidence_level = 0.95\n",
    "alpha = 1 - confidence_level\n",
    "dof = len(sample)-1\n",
    "t_critical = st.t.ppf(1-alpha,dof)\n",
    "print(t_critical)"
   ]
  },
  {
   "cell_type": "markdown",
   "id": "fd8afea2",
   "metadata": {},
   "source": [
    "### Step-5 Calculating p-value"
   ]
  },
  {
   "cell_type": "code",
   "execution_count": 34,
   "id": "84f52e2c",
   "metadata": {},
   "outputs": [
    {
     "name": "stdout",
     "output_type": "stream",
     "text": [
      "0.007553794947989134\n"
     ]
    }
   ],
   "source": [
    "p = (1-st.t.cdf(np.abs(t),19))\n",
    "print(p)"
   ]
  },
  {
   "cell_type": "markdown",
   "id": "5f0db1bc",
   "metadata": {},
   "source": [
    "### Conclusion using t-test"
   ]
  },
  {
   "cell_type": "code",
   "execution_count": 35,
   "id": "ef4d8834",
   "metadata": {},
   "outputs": [
    {
     "name": "stdout",
     "output_type": "stream",
     "text": [
      "Reject Null Hypothesis\n"
     ]
    }
   ],
   "source": [
    "# Conclusion using t test\n",
    "if(np.abs(t) > t_critical):\n",
    "    print(\"Reject Null Hypothesis\")\n",
    "else:\n",
    "    print(\"Fail to reject Null Hypothesis\")"
   ]
  },
  {
   "cell_type": "markdown",
   "id": "d43a1323",
   "metadata": {},
   "source": [
    "### Step-6 Conclusion using p-value"
   ]
  },
  {
   "cell_type": "code",
   "execution_count": 36,
   "id": "1bc705a3",
   "metadata": {},
   "outputs": [
    {
     "name": "stdout",
     "output_type": "stream",
     "text": [
      "Reject Null Hypothesis\n"
     ]
    }
   ],
   "source": [
    "if(p < alpha):\n",
    "    print(\"Reject Null Hypothesis\")\n",
    "else:\n",
    "    print(\"Fail to reject Null Hypothesis\")"
   ]
  },
  {
   "cell_type": "code",
   "execution_count": 37,
   "id": "818ded11",
   "metadata": {},
   "outputs": [
    {
     "data": {
      "image/png": "[encoded data removed]",
      "text/plain": [
       "<Figure size 432x288 with 1 Axes>"
      ]
     },
     "metadata": {
      "needs_background": "light"
     },
     "output_type": "display_data"
    }
   ],
   "source": [
    "# Ploting the sampling distribution with rejection regions\n",
    "\n",
    "# Defining the x minimum and x maximum\n",
    "x_min = 90\n",
    "x_max = 110\n",
    "\n",
    "\n",
    "# Defining the sampling distribution mean and sampling distribution std\n",
    "mean = population_mean\n",
    "std = 15.8 / sample_size**0.5\n",
    "\n",
    "# Ploting the graph and setting the x limits\n",
    "x = np.linspace(x_min, x_max, 100)\n",
    "y = st.norm.pdf(x, mean, std)\n",
    "plt.xlim(x_min, x_max)\n",
    "plt.plot(x, y, color = 'black')\n",
    "\n",
    "# Computing the left and right critical values (Two tailed Test)\n",
    "t_critical_left = population_mean + (-t_critical * std)\n",
    "t_critical_right = population_mean + (t_critical * std)\n",
    "\n",
    "\n",
    "# Shading the left rejection region\n",
    "x1 = np.linspace(x_min, t_critical_left, 100)\n",
    "y1 = st.norm.pdf(x1, mean, std)\n",
    "plt.fill_between(x1, y1, color='red')\n",
    "\n",
    "\n",
    "# Ploting the sample mean and concluding the results \n",
    "plt.scatter(sample_mean, 0, color = 'green')\n",
    "plt.annotate(\"x_bar\", (sample_mean, 0.0007))\n",
    "plt.show()"
   ]
  },
  {
   "cell_type": "markdown",
   "id": "bb5e7e62",
   "metadata": {},
   "source": [
    "#### In this case the Sample mean falls in the rejection region. So, we Reject the Null Hypothesis"
   ]
  },
  {
   "cell_type": "code",
   "execution_count": null,
   "id": "f3b5bf98",
   "metadata": {},
   "outputs": [],
   "source": []
  }
 ],
 "metadata": {
  "kernelspec": {
   "display_name": "Python 3",
   "language": "python",
   "name": "python3"
  },
  "language_info": {
   "codemirror_mode": {
    "name": "ipython",
    "version": 3
   },
   "file_extension": ".py",
   "mimetype": "text/x-python",
   "name": "python",
   "nbconvert_exporter": "python",
   "pygments_lexer": "ipython3",
   "version": "3.8.8"
  }
 },
 "nbformat": 4,
 "nbformat_minor": 5
}
